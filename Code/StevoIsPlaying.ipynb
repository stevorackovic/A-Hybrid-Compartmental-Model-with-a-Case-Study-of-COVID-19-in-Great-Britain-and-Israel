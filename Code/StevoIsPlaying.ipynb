{
  "cells": [
    {
      "cell_type": "code",
      "execution_count": null,
      "metadata": {
        "id": "DVtiDSQdtNeH"
      },
      "outputs": [],
      "source": [
        "import pandas as pd\n",
        "import numpy as np\n",
        "import os\n",
        "from matplotlib import pyplot as plt\n",
        "#import seaborn as sns"
      ]
    },
    {
      "cell_type": "code",
      "execution_count": null,
      "metadata": {
        "colab": {
          "base_uri": "https://localhost:8080/"
        },
        "id": "mNdyicAHtlYQ",
        "outputId": "9ba2ab7a-7e7c-4807-fae6-17a75d4bb11b"
      },
      "outputs": [
        {
          "name": "stdout",
          "output_type": "stream",
          "text": [
            "d:\\RLOffloading\\Tables_code\n"
          ]
        }
      ],
      "source": [
        "#from google.colab import drive\n",
        "#drive.mount('/content/drive')\n",
        "\n",
        "current_directory = os.getcwd()\n",
        "print(current_directory)\n",
        "print('...')\n",
        "print('It is working!')"
      ]
    },
    {
      "cell_type": "markdown",
      "metadata": {
        "id": "bED3ec0xKq-i"
      },
      "source": [
        "# Functions"
      ]
    },
    {
      "cell_type": "code",
      "execution_count": null,
      "metadata": {
        "id": "CZc_HPwLKtz0"
      },
      "outputs": [],
      "source": [
        "def get_dummies(df, col, other_cols = []):\n",
        "  # gets dummies of column 'col' of df, assuming they are separated with comma and space\n",
        "  # other_cols : list of columns. if not [] then it will aggregate all these column in a new one called 'Others' and delete all the old columns in other_cols\n",
        "\n",
        "\n",
        "    df_new = df[col].str.get_dummies(sep=', ')\n",
        "\n",
        "    df_new['Others'] = df_new[other_cols].sum(axis=1)\n",
        "    df_new['Others'] = df_new['Others'].apply(lambda x: 1 if x>0 else 0)\n",
        "    df_new.drop(other_cols, axis=1, inplace = True)\n",
        "\n",
        "    return df_new\n",
        "\n",
        "\n",
        "\n",
        "def multi_col2latex(df, col, col_names_replace, filename):\n",
        "    # col_names_replace : dictionary with old and new column names\n",
        "\n",
        "    df_ = df[col].str.get_dummies(sep=', ')\n",
        "\n",
        "    # fix column names\n",
        "    df_.rename(columns=col_names_replace, inplace = True)\n",
        "\n",
        "\n",
        "    binary_df2latex(df_, filename)\n",
        "\n",
        "def get_subset(df, cols, replace_vals):\n",
        "    df_sub = df[cols]\n",
        "    df_sub = df_sub.replace(replace_vals[0], replace_vals[1])\n",
        "    df_sub = df_sub.dropna()\n",
        "    return df_sub\n",
        "\n",
        "\n",
        "def plot_stacked(df, label_order):\n",
        "    # label order should be a list of all possible values in the desired order\n",
        "    df_ = df.apply(lambda x: x.value_counts(normalize = True)).T\n",
        "    df_ = df_[label_order]\n",
        "    ax = df_.plot.barh(stacked = True)\n",
        "    ax.spines['top'].set_visible(False)\n",
        "    ax.spines['right'].set_visible(False)\n",
        "    ax.legend(frameon=False, bbox_to_anchor=(1.05, 1.05))\n",
        "    return ax\n",
        "\n",
        "\n",
        "\n"
      ]
    },
    {
      "cell_type": "code",
      "execution_count": null,
      "metadata": {
        "id": "lfIq0uoweNLB"
      },
      "outputs": [],
      "source": [
        "class Plots:\n",
        "    def __init__(self, ax, xlabel = None, ylabel = None):\n",
        "\n",
        "        self.ax = ax\n",
        "        self.xlabel = xlabel\n",
        "        self.ylabel = ylabel\n",
        "\n",
        "    def clean_up(self):\n",
        "        \"\"\"settings common to all plots\n",
        "        \"\"\"\n",
        "\n",
        "        self.ax.spines['top'].set_visible(False)\n",
        "        self.ax.spines['right'].set_visible(False)\n",
        "\n",
        "        if self.ax.legend_ is not None:\n",
        "            self.ax.legend_.set_frame_on(False)  # Remove legend frame\n",
        "\n",
        "        if self.xlabel is not None:\n",
        "            self.ax.set_xlabel(self.xlabel)\n",
        "\n",
        "        if self.ylabel is not None:\n",
        "            self.ax.set_ylabel(self.ylabel)\n",
        "\n",
        "class PlotsDataframe(Plots):\n",
        "    \"\"\"Plots all in self.ax\n",
        "\n",
        "    Args:\n",
        "        Plots (_type_): _description_\n",
        "    \"\"\"\n",
        "    def __init__(self, df, ax ,**kwargs):\n",
        "\n",
        "        super().__init__(ax, **kwargs)\n",
        "\n",
        "        self.df = df\n",
        "\n",
        "    def plot_series_bar(self):\n",
        "        #print(self.df)\n",
        "\n",
        "        self.df.sort_values().plot.barh(ax = self.ax)\n",
        "        self.clean_up()\n",
        "\n",
        "    def plot_df_bar(self, stacked = False):\n",
        "\n",
        "        self.df.plot.barh(stacked = stacked, ax = self.ax)\n",
        "        self.clean_up()\n",
        "\n",
        "\n",
        "class Figures:\n",
        "\n",
        "    def __init__(self, nrows = 1, ncols = 1):\n",
        "\n",
        "        fig, axes = plt.subplots(nrows, ncols)\n",
        "\n",
        "        self.fig = fig\n",
        "        self.axes = axes\n",
        "\n",
        "    def save_fig(self, filename):\n",
        "\n",
        "        plt.savefig(filename, bbox_inches='tight')\n",
        "\n",
        "    def add_plot(self, row = 0, col = 0):\n",
        "        \"\"\"Adds plot to the axis with indices [row,col]\n",
        "\n",
        "        Args:\n",
        "            row (int, optional): _description_. Defaults to 0.\n",
        "            col (int, optional): _description_. Defaults to 0.\n",
        "        \"\"\"\n",
        "        raise NotImplementedError\n",
        "\n",
        "\n",
        "\n",
        "\n",
        "\n",
        "\n",
        "\n",
        "\n",
        "\n",
        "\n"
      ]
    },
    {
      "cell_type": "code",
      "execution_count": null,
      "metadata": {
        "id": "UWnxe8rfeNLC"
      },
      "outputs": [],
      "source": [
        "\n",
        "\n",
        "def binary_df2latex(df,filename):\n",
        "  # converts a df of zeros and ones to latex\n",
        "  # zeros become empty, ones become checkmarks\n",
        "    df_ = df.copy()\n",
        "    cols = df_.sum().sort_values(ascending = False).index.to_list() # get columns by largest number of appearance\n",
        "\n",
        "    # if there is OThers col we move it ot the end\n",
        "    if 'Others' in cols:\n",
        "        cols.append(cols.pop(cols.index('Others')))\n",
        "\n",
        "    df_ret = df_[cols]\n",
        "    df_ret = df_ret.sort_values(by = cols, ascending =False) # sort each column\n",
        "\n",
        "\n",
        "    df_ret.replace({0:np.nan}, inplace = True)\n",
        "    df_ret.replace({1:'\\checkmark'}, inplace = True)\n",
        "    with open(filename, \"w\") as fh:\n",
        "        df_ret.to_latex(buf=fh,float_format=\"{:.2f}\".format, na_rep = '', escape  =False)\n",
        "\n",
        "\n",
        "class Database:\n",
        "    def __init__(self, path, index_col = 'Name', cite_col = 'Citation'):\n",
        "        \"\"\" Reads data\n",
        "\n",
        "        Args:\n",
        "            path (str): path for csv file\n",
        "\n",
        "            index_col (str, optional): column name to be index\n",
        "            cite_col (str, optional): column name with latex citations\n",
        "\n",
        "        \"\"\"\n",
        "        self.data = pd.read_csv(path)\n",
        "        self.cite_col = cite_col\n",
        "\n",
        "        self.data.set_index(index_col, inplace = True)\n",
        "        self.get_cite_name()\n",
        "\n",
        "    def get_cite_name(self):\n",
        "        \"\"\" Retrives latex citation\n",
        "\n",
        "        Args:\n",
        "            col (str, optional): column where bibtex citations are found. Defaults to 'Citation'.\n",
        "        \"\"\"\n",
        "        self.data['latex_cite'] = '\\cite{' + self.data[self.cite_col].str.split('{').str[1].str.split(',').str[0] + '}'\n",
        "\n",
        "    def writes_citations(self, filename):\n",
        "        \"\"\"Writes all citations in database to filename (added at the end of the file). Does not look for duplicates.\n",
        "\n",
        "        Args:\n",
        "            filename (str): path of output file\n",
        "        \"\"\"\n",
        "        with open(filename, 'a') as f:\n",
        "            for elem in self.data[self.cite_col]:\n",
        "                f.write(elem + \"\\n\" + \"\\n\")\n",
        "\n",
        "    def process_multiselect(self, df_col, rename_vals = {}, other_cols = []):\n",
        "        \"\"\" Makes dummy columns out of a multiselect column, replaces names of options and aggregates in others\n",
        "\n",
        "        Args:\n",
        "            df_col (pd.Series): pandas series that corresponds to multiselect (i.e. several string options separated by comma)\n",
        "            rename_vals (dict, optional): dictionary to rename the values. Defaults to {}.\n",
        "            other_cols (list, optional): list of column names to aggregate in 'Others'. It will count all columns as the same. Defaults to [].\n",
        "        \"\"\"\n",
        "        df = df_col.dropna().str.get_dummies(sep=', ') # turns options into dummy columns\n",
        "\n",
        "        if len(other_cols) > 0:\n",
        "            df['Others'] = df[other_cols].sum(axis=1)\n",
        "            df['Others'] = df['Others'].apply(lambda x: 1 if x>0 else 0)\n",
        "            df.drop(other_cols, axis=1, inplace = True)\n",
        "\n",
        "        df.rename(columns = rename_vals, inplace = True)\n",
        "\n",
        "        return df\n",
        "\n",
        "    def creates_latex_table(self, col, filename, rename_vals = {}, other_cols = [] ):\n",
        "\n",
        "        df = self.data[[col,'latex_cite']]\n",
        "        df.set_index('latex_cite', inplace = True)\n",
        "        df = self.process_multiselect(df[col] , rename_vals, other_cols)\n",
        "\n",
        "        df.index.name = None\n",
        "        binary_df2latex(df,filename)\n",
        "\n",
        "\n",
        "    def process_select_same_options(self, df_cols, rename_vals = {}, other_cols = []):\n",
        "\n",
        "        df = df_cols.dropna().apply(lambda x: x.value_counts(normalize = True)).T\n",
        "        df.rename(columns = rename_vals, inplace = True)\n",
        "        return df\n",
        "\n",
        "    def classification(self, cols, rules, name):\n",
        "\n",
        "        df = pd.DataFrame(self.data[cols].groupby(cols).size(), columns= ['Counts'])\n",
        "\n",
        "        column_name = name\n",
        "        df[column_name] = 0\n",
        "\n",
        "        for key, value in rules.items():\n",
        "            df.loc[value,column_name] = key\n",
        "\n",
        "        return df\n",
        "\n",
        "    #  -------------- Plots -------------- #\n",
        "\n",
        "    def plot_multi_select(self, col, ax, rename_vals = {}, other_cols = [] , xlabel = '', ylabel = ''):\n",
        "        \"\"\"Plots multiselect column as an horizontal bar plot with the fraction of times each option appears in the whole dataset\n",
        "\n",
        "        Args:\n",
        "            col (str): column name to plot\n",
        "            rename_vals (dict, optional): dictionary to rename the values. Defaults to {}.\n",
        "            other_cols (list, optional): list of column names to aggregate in 'Others'. It will count all columns as the same. Defaults to [].\n",
        "        \"\"\"\n",
        "        df = self.process_multiselect(self.data[col] , rename_vals, other_cols)\n",
        "\n",
        "        pp = PlotsDataframe(df.mean(), ax, xlabel = xlabel, ylabel = ylabel)\n",
        "\n",
        "        pp.plot_series_bar()\n",
        "\n",
        "        #ax = plot_series_bar(df.mean())\n",
        "\n",
        "    def plot_single_select(self, col, ax, rename_vals = {}, other_cols = [], xlabel = '', ylabel = ''):\n",
        "\n",
        "        df = self.process_select_same_options(pd.DataFrame(self.data[col]) , rename_vals, other_cols).T\n",
        "\n",
        "        pp = PlotsDataframe(df[df.columns[0]], ax, xlabel = xlabel, ylabel = ylabel)\n",
        "        pp.plot_series_bar()\n",
        "\n",
        "    def plot_select_aggregated(self,cols, ax, rename_vals = {}, other_cols = [], xlabel = '', ylabel = ''):\n",
        "\n",
        "        df = self.process_select_same_options(self.data[cols] , rename_vals, other_cols)\n",
        "        pp = PlotsDataframe(df, ax, xlabel = xlabel, ylabel = ylabel)\n",
        "        pp.plot_df_bar(stacked=True)\n",
        "\n",
        "\n",
        "    def plot_select_combinations(self,cols, rules, name, ax, xlabel = '', ylabel = ''):\n",
        "\n",
        "        df = self.classification(cols, rules, name).set_index(name)\n",
        "\n",
        "        pp = PlotsDataframe(df[df.columns[0]], ax, xlabel = xlabel, ylabel = ylabel)\n",
        "        pp.plot_series_bar()"
      ]
    },
    {
      "cell_type": "markdown",
      "metadata": {
        "id": "ZazdZII8eNLC"
      },
      "source": []
    },
    {
      "cell_type": "markdown",
      "metadata": {
        "id": "4-785LAgKsU9"
      },
      "source": [
        "# Get data"
      ]
    },
    {
      "cell_type": "code",
      "execution_count": null,
      "metadata": {
        "id": "k6WtTB2jt6or"
      },
      "outputs": [],
      "source": [
        "path = 'database.csv'\n",
        "data = Database(path)\n",
        "#data.writes_citations('../references.bib')\n",
        "#data.data.head()"
      ]
    },
    {
      "cell_type": "markdown",
      "metadata": {
        "id": "s1M1Gi4weNLD"
      },
      "source": [
        "# Objective Function"
      ]
    },
    {
      "cell_type": "code",
      "execution_count": null,
      "metadata": {
        "id": "Pzr6yAzZeNLD",
        "outputId": "4bd4e9e0-accb-453e-d23a-9999e8363ea2"
      },
      "outputs": [
        {
          "data": {
            "image/png": "[encoded data removed]",
            "text/plain": [
              "<Figure size 432x288 with 1 Axes>"
            ]
          },
          "metadata": {
            "needs_background": "light"
          },
          "output_type": "display_data"
        }
      ],
      "source": [
        "rename_vals ={'Price computation and transmission': 'Price'}\n",
        "other_cols = ['Mining', 'Buffer length', 'Workload balance', 'Switching', 'Bandwidth', 'Overload']\n",
        "fig = Figures()\n",
        "data.plot_multi_select('Objective', fig.axes, rename_vals, other_cols, xlabel = 'Fraction')\n",
        "fig.save_fig(\"../Figures/Objective.pdf\")\n",
        "\n",
        "data.creates_latex_table('Objective', '../Tables/obj_tab.tex', rename_vals, other_cols)"
      ]
    },
    {
      "cell_type": "markdown",
      "metadata": {
        "id": "ahBIzvDTeNLD"
      },
      "source": [
        "# Computation model"
      ]
    },
    {
      "cell_type": "markdown",
      "metadata": {
        "id": "cI2Cor2aeNLD"
      },
      "source": [
        "### Dropped tasks"
      ]
    },
    {
      "cell_type": "code",
      "execution_count": null,
      "metadata": {
        "id": "8VaBYEqGeNLE",
        "outputId": "97211289-7098-4a18-a830-2abc12fae6eb"
      },
      "outputs": [
        {
          "data": {
            "image/png": "[encoded data removed]",
            "text/plain": [
              "<Figure size 432x288 with 1 Axes>"
            ]
          },
          "metadata": {
            "needs_background": "light"
          },
          "output_type": "display_data"
        }
      ],
      "source": [
        "rename_vals ={}\n",
        "other_cols = ['No coverage and no local resources', 'Max permitted latency', 'Max permitted energy']\n",
        "\n",
        "\n",
        "fig = Figures()\n",
        "data.plot_multi_select('Dropped tasks', fig.axes, rename_vals, other_cols, xlabel = 'Fraction')\n",
        "fig.save_fig(\"../Figures/Dropped_tasks.pdf\")\n",
        "\n",
        "data.creates_latex_table('Dropped tasks', '../Tables/drop_tab.tex', rename_vals, other_cols)\n"
      ]
    },
    {
      "cell_type": "markdown",
      "metadata": {
        "id": "SOpVtHZDeNLE"
      },
      "source": [
        "# State Space"
      ]
    },
    {
      "cell_type": "markdown",
      "metadata": {
        "id": "IfsTzIACeNLE"
      },
      "source": [
        "### Arrived tasks"
      ]
    },
    {
      "cell_type": "code",
      "execution_count": null,
      "metadata": {
        "id": "RWwvKCyLeNLE",
        "outputId": "6d0350b8-2c6a-4b06-f9c5-f4481972952b"
      },
      "outputs": [
        {
          "data": {
            "image/png": "[encoded data removed]",
            "text/plain": [
              "<Figure size 432x288 with 1 Axes>"
            ]
          },
          "metadata": {
            "needs_background": "light"
          },
          "output_type": "display_data"
        }
      ],
      "source": [
        "rename_vals ={'No': 'None', 'type': 'Type'}\n",
        "other_cols = ['utility', 'priority', 'Bandwidth']\n",
        "fig = Figures()\n",
        "data.plot_multi_select('SS: Arrived tasks', fig.axes, rename_vals, other_cols)\n",
        "fig.save_fig(\"../Figures/Arrived_tasks.pdf\")\n",
        "\n",
        "data.creates_latex_table('SS: Arrived tasks', '../Tables/ss_tasks.tex', rename_vals, other_cols)"
      ]
    },
    {
      "cell_type": "markdown",
      "metadata": {
        "id": "yYNlxWcDeNLE"
      },
      "source": [
        "### Nodes"
      ]
    },
    {
      "cell_type": "code",
      "execution_count": null,
      "metadata": {
        "id": "J2hrRBW8eNLE",
        "outputId": "589e3044-208b-4a76-9f17-d2708414811e"
      },
      "outputs": [
        {
          "data": {
            "image/png": "[encoded data removed]",
            "text/plain": [
              "<Figure size 432x288 with 1 Axes>"
            ]
          },
          "metadata": {
            "needs_background": "light"
          },
          "output_type": "display_data"
        }
      ],
      "source": [
        "rename_vals ={}\n",
        "other_cols = ['Current CPU usage', 'balance for mining', 'transmission delay']\n",
        "\n",
        "fig = Figures()\n",
        "data.plot_multi_select('SS: Node i', fig.axes, rename_vals, other_cols)\n",
        "fig.save_fig(\"../Figures/NodeI.pdf\")"
      ]
    },
    {
      "cell_type": "markdown",
      "metadata": {
        "id": "z1bWg6HDul2_"
      },
      "source": [
        "# Offload model"
      ]
    },
    {
      "cell_type": "markdown",
      "metadata": {
        "id": "MdPNpytDv00J"
      },
      "source": [
        "### Offload where"
      ]
    },
    {
      "cell_type": "code",
      "execution_count": null,
      "metadata": {
        "id": "7Cemq9d1ukRb",
        "outputId": "29dfd90a-7955-4633-e9fe-2d342add41cd"
      },
      "outputs": [
        {
          "data": {
            "image/png": "[encoded data removed]",
            "text/plain": [
              "<Figure size 432x288 with 1 Axes>"
            ]
          },
          "metadata": {
            "needs_background": "light"
          },
          "output_type": "display_data"
        }
      ],
      "source": [
        "cols = ['Locally', 'Horizontal', 'Vertical']\n",
        "\n",
        "fig = Figures()\n",
        "data.plot_select_aggregated(cols,ax  =fig.axes)\n",
        "fig.save_fig(\"../Figures/OffloadWhere_Agg.pdf\")"
      ]
    },
    {
      "cell_type": "code",
      "execution_count": null,
      "metadata": {
        "colab": {
          "base_uri": "https://localhost:8080/",
          "height": 569
        },
        "id": "n16BUbecpAQu",
        "outputId": "e29a38a3-e5c3-4862-a556-b4ee276c34de"
      },
      "outputs": [
        {
          "data": {
            "image/png": "[encoded data removed]",
            "text/plain": [
              "<Figure size 432x288 with 1 Axes>"
            ]
          },
          "metadata": {
            "needs_background": "light"
          },
          "output_type": "display_data"
        }
      ],
      "source": [
        "cols = ['Locally', 'Horizontal', 'Vertical']\n",
        "name = 'Offload type'\n",
        "rules = {'No local': ('No', 'No', 'Yes'),\n",
        "                  'Horizontal': ('Yes', 'Yes', 'No'),\n",
        "                  'Vertical': ('Yes', 'No', 'Yes'),\n",
        "                  'Hybrid': ('Yes', 'Yes', 'Yes')}\n",
        "\n",
        "fig = Figures()\n",
        "data.plot_select_combinations(cols, rules, name, fig.axes, xlabel = 'Number')\n",
        "fig.save_fig(\"../Figures/OffloadWhere_comb.pdf\")"
      ]
    },
    {
      "cell_type": "markdown",
      "metadata": {
        "id": "gkM50wfWeNLF"
      },
      "source": [
        "### Offload restrictions"
      ]
    },
    {
      "cell_type": "code",
      "execution_count": null,
      "metadata": {
        "colab": {
          "base_uri": "https://localhost:8080/",
          "height": 430
        },
        "id": "cHfVwzGXwc5m",
        "outputId": "2a6ac289-05ec-4e45-bba0-477a855b7251"
      },
      "outputs": [
        {
          "data": {
            "image/png": "[encoded data removed]",
            "text/plain": [
              "<Figure size 432x288 with 1 Axes>"
            ]
          },
          "metadata": {
            "needs_background": "light"
          },
          "output_type": "display_data"
        }
      ],
      "source": [
        "rename_vals ={'any': 'Anywhere', 'd < d_max': 'Distance', 'queue j not longer than queue i': 'Shorter queue', 'node idle': 'Node idle'}\n",
        "other_cols = []\n",
        "\n",
        "fig = Figures()\n",
        "data.plot_multi_select('Offload where', fig.axes, rename_vals, other_cols, xlabel = 'Fraction')\n",
        "fig.save_fig(\"../Figures/OffloadRestric.pdf\")\n",
        "\n",
        "data.creates_latex_table('Offload where', 'off_rest.tex', rename_vals, other_cols)"
      ]
    },
    {
      "cell_type": "markdown",
      "metadata": {
        "id": "PDRb8UpfxyLr"
      },
      "source": [
        "# Queue"
      ]
    },
    {
      "cell_type": "code",
      "execution_count": null,
      "metadata": {
        "colab": {
          "base_uri": "https://localhost:8080/",
          "height": 770
        },
        "id": "KdynBZaxL0Ne",
        "outputId": "9385ab3f-0475-4693-9ab4-6f1b1918b6c5"
      },
      "outputs": [
        {
          "data": {
            "image/png": "[encoded data removed]",
            "text/plain": [
              "<Figure size 432x288 with 1 Axes>"
            ]
          },
          "metadata": {
            "needs_background": "light"
          },
          "output_type": "display_data"
        }
      ],
      "source": [
        "cols = ['Decision queue','Comm queue','Comp queue']\n",
        "rename_vals ={'Maybe': 'No'}\n",
        "other_cols = []\n",
        "\n",
        "fig = Figures()\n",
        "data.plot_select_aggregated(cols, fig.axes)\n",
        "fig.save_fig(\"../Figures/Queue.pdf\")"
      ]
    },
    {
      "cell_type": "markdown",
      "metadata": {
        "id": "DzTwgtIQJlRv"
      },
      "source": [
        "# Computation"
      ]
    },
    {
      "cell_type": "code",
      "execution_count": null,
      "metadata": {
        "colab": {
          "base_uri": "https://localhost:8080/",
          "height": 237
        },
        "id": "ymWK_Msb4C2_",
        "outputId": "0ce91742-5393-499f-8a34-ef7d9eb267fa"
      },
      "outputs": [
        {
          "data": {
            "image/png": "[encoded data removed]",
            "text/plain": [
              "<Figure size 432x288 with 1 Axes>"
            ]
          },
          "metadata": {
            "needs_background": "light"
          },
          "output_type": "display_data"
        }
      ],
      "source": [
        "cols = ['Comp add costs','Comp latency','Comp energy']\n",
        "rename_vals ={}\n",
        "other_cols = []\n",
        "\n",
        "fig = Figures()\n",
        "data.plot_select_aggregated(cols, fig.axes, xlabel=\"Fraction\")\n",
        "fig.save_fig(\"../Figures/Comp.pdf\")"
      ]
    },
    {
      "cell_type": "markdown",
      "metadata": {
        "id": "UNvLBpfKSEky"
      },
      "source": [
        "### REstrictions"
      ]
    },
    {
      "cell_type": "code",
      "execution_count": null,
      "metadata": {
        "colab": {
          "base_uri": "https://localhost:8080/",
          "height": 447
        },
        "id": "7JA9akQYRHfy",
        "outputId": "a5a20cb1-65ed-4b0f-f51c-35934f3ad5b3"
      },
      "outputs": [
        {
          "data": {
            "image/png": "[encoded data removed]",
            "text/plain": [
              "<Figure size 432x288 with 1 Axes>"
            ]
          },
          "metadata": {
            "needs_background": "light"
          },
          "output_type": "display_data"
        }
      ],
      "source": [
        "rename_vals ={}\n",
        "other_cols = []\n",
        "\n",
        "fig = Figures()\n",
        "data.plot_multi_select('Comp restrictions', fig.axes,  rename_vals, other_cols, xlabel= 'Fraction')\n",
        "fig.save_fig(\"../Figures/Comp_Restric.pdf\")"
      ]
    },
    {
      "cell_type": "markdown",
      "metadata": {
        "id": "OfotWgIDcNFb"
      },
      "source": [
        "# Properties"
      ]
    },
    {
      "cell_type": "markdown",
      "metadata": {
        "id": "V0vjUxU2c5lu"
      },
      "source": [
        "### Nodes"
      ]
    },
    {
      "cell_type": "code",
      "execution_count": null,
      "metadata": {
        "colab": {
          "base_uri": "https://localhost:8080/",
          "height": 237
        },
        "id": "wsCIRAvzcOxU",
        "outputId": "9441d3b6-2126-49c2-991f-172c5f039d7d"
      },
      "outputs": [
        {
          "data": {
            "image/png": "[encoded data removed]",
            "text/plain": [
              "<Figure size 432x288 with 1 Axes>"
            ]
          },
          "metadata": {
            "needs_background": "light"
          },
          "output_type": "display_data"
        }
      ],
      "source": [
        "rename_vals = {}\n",
        "\n",
        "fig = Figures()\n",
        "data.plot_single_select('Mobility', fig.axes,rename_vals, xlabel= \"Fraction\")\n",
        "fig.save_fig(\"../Figures/NodeProp.pdf\")"
      ]
    },
    {
      "cell_type": "code",
      "execution_count": null,
      "metadata": {
        "id": "Ywp5t7j2hWGr",
        "outputId": "9f52a448-c942-4754-cc07-ed86f4910be9"
      },
      "outputs": [
        {
          "ename": "ModuleNotFoundError",
          "evalue": "No module named 'sklearn'",
          "output_type": "error",
          "traceback": [
            "\u001b[1;31m---------------------------------------------------------------------------\u001b[0m",
            "\u001b[1;31mModuleNotFoundError\u001b[0m                       Traceback (most recent call last)",
            "\u001b[1;32m<ipython-input-165-e302fdcb7491>\u001b[0m in \u001b[0;36m<module>\u001b[1;34m\u001b[0m\n\u001b[1;32m----> 1\u001b[1;33m \u001b[1;32mfrom\u001b[0m \u001b[0msklearn\u001b[0m\u001b[1;33m.\u001b[0m\u001b[0mmetrics\u001b[0m \u001b[1;32mimport\u001b[0m \u001b[0mconfusion_matrix\u001b[0m\u001b[1;33m\u001b[0m\u001b[1;33m\u001b[0m\u001b[0m\n\u001b[0m",
            "\u001b[1;31mModuleNotFoundError\u001b[0m: No module named 'sklearn'"
          ]
        }
      ],
      "source": [
        "from sklearn.metrics import confusion_matrix"
      ]
    },
    {
      "cell_type": "code",
      "execution_count": null,
      "metadata": {
        "colab": {
          "base_uri": "https://localhost:8080/",
          "height": 449
        },
        "id": "ZFB9a01fhffx",
        "outputId": "3e910327-3666-4aea-e21e-602cb9f52cf0"
      },
      "outputs": [
        {
          "data": {
            "image/png": "[encoded data removed]",
            "text/plain": [
              "<Figure size 640x480 with 2 Axes>"
            ]
          },
          "metadata": {},
          "output_type": "display_data"
        }
      ],
      "source": [
        "data = confusion_matrix(df_prop_nodes['Nodes I'], df_prop_nodes['Nodes S'], labels = ['Heterogeneous', 'Homogeneous', 'Just 1'])\n",
        "ax = sns.heatmap(100*data/df_prop_nodes.shape[0], xticklabels =  ['Heterogeneous', 'Homogeneous', 'Just 1'], yticklabels =  ['Heterogeneous', 'Homogeneous', 'Just 1'], annot = True)\n",
        "ax.set_xlabel('Nodes S');\n",
        "ax.set_ylabel('Nodes I');"
      ]
    },
    {
      "cell_type": "markdown",
      "metadata": {
        "id": "f1e5w2C4k3bK"
      },
      "source": [
        "### TAsks"
      ]
    },
    {
      "cell_type": "code",
      "execution_count": null,
      "metadata": {
        "colab": {
          "base_uri": "https://localhost:8080/",
          "height": 458
        },
        "id": "JizvraVUlLN4",
        "outputId": "4b0495f2-7b86-45d1-ba05-d80765181637"
      },
      "outputs": [
        {
          "data": {
            "image/png": "[encoded data removed]",
            "text/plain": [
              "<Figure size 432x288 with 1 Axes>"
            ]
          },
          "metadata": {
            "needs_background": "light"
          },
          "output_type": "display_data"
        }
      ],
      "source": [
        "cols = ['Dependency', 'Deadline', 'Task utility','Multiplicity','Task homog']\n",
        "replace_vals = {'Types': 'Yes (types)'}\n",
        "\n",
        "\n",
        "fig = Figures()\n",
        "data.plot_select_aggregated(cols, fig.axes, replace_vals, xlabel=\"Fraction\")\n",
        "fig.save_fig(\"../Figures/TaskProp.pdf\")\n",
        "\n",
        "#data.creates_latex_table('SS: Arrived tasks', '../Tables/taskProp.tex', rename_vals, other_cols)"
      ]
    },
    {
      "cell_type": "code",
      "execution_count": null,
      "metadata": {
        "id": "HG50-pQYM0Gp"
      },
      "outputs": [],
      "source": []
    }
  ],
  "metadata": {
    "colab": {
      "collapsed_sections": [
        "4-785LAgKsU9"
      ],
      "provenance": []
    },
    "kernelspec": {
      "display_name": "Python 3",
      "language": "python",
      "name": "python3"
    },
    "language_info": {
      "codemirror_mode": {
        "name": "ipython",
        "version": 3
      },
      "file_extension": ".py",
      "mimetype": "text/x-python",
      "name": "python",
      "nbconvert_exporter": "python",
      "pygments_lexer": "ipython3",
      "version": "3.6.13"
    }
  },
  "nbformat": 4,
  "nbformat_minor": 0
}